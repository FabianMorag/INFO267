{
 "cells": [
  {
   "cell_type": "code",
   "execution_count": null,
   "metadata": {},
   "outputs": [],
   "source": [
    "%%HTML\n",
    "<!-- Mejorar visualización en proyector -->\n",
    "<style>\n",
    ".rendered_html {font-size: 1.2em; line-height: 150%;}\n",
    "div.prompt {min-width: 0ex; padding: 0px;}\n",
    ".container {width:95% !important;}\n",
    "</style>"
   ]
  },
  {
   "cell_type": "code",
   "execution_count": 1,
   "metadata": {},
   "outputs": [
    {
     "data": {
      "application/javascript": [
       "IPython.notebook.set_autosave_interval(0)"
      ]
     },
     "metadata": {},
     "output_type": "display_data"
    },
    {
     "name": "stdout",
     "output_type": "stream",
     "text": [
      "Autosave disabled\n"
     ]
    }
   ],
   "source": [
    "%autosave 0"
   ]
  },
  {
   "cell_type": "markdown",
   "metadata": {},
   "source": [
    "# Bibliografía\n",
    "\n",
    "- Sutton & Barto, [\"Reinforcement Learning: An Introduction\", MIT Press, 2nd ed, 2018](http://www.incompleteideas.net/book/the-book.html)\n",
    "- David Silver (DeepMind), [\"Reinforced Learning Course\"](https://www.youtube.com/watch?v=2pWv7GOvuf0&list=PLqYmG7hTraZDM-OYHWgPebj2MfCFzFObQ)"
   ]
  },
  {
   "cell_type": "markdown",
   "metadata": {},
   "source": [
    "# Aprendizaje Supervisado y No Supervisado \n",
    "\n",
    "En el caso supervisado tenemos un modelo  entrenado a partir de **ejemplos etiquetados** $(x, y)$ según una **función de costo**\n",
    "\n",
    "Ejemplo:\n",
    "$$\n",
    "\\min_w \\sum_{i=1}^N (y_i - \\hat y_i)^2 \\quad \\hat y_i = f_w (x_i)\n",
    "$$\n",
    "\n",
    "Ejemplo: Regresión, clasificación\n",
    "\n",
    "En el caso no supervisado tenemos un modelo entrenado a partir de **ejemplos no etiquetados** $x$ según una **función de costo**\n",
    "\n",
    "Ejemplo:\n",
    "\n",
    "$$\n",
    "\\min_{C}  \\sum_{k=1}^K \\sum_{x\\in C_k} (x - \\mu_k)^2 \n",
    "$$ \n",
    "\n",
    "Ejemplo: Extracción de características, clustering, visualización"
   ]
  },
  {
   "attachments": {
    "Reinforcement_learning_diagram.svg.png": {
     "image/png": "[encoded data removed]"
    }
   },
   "cell_type": "markdown",
   "metadata": {},
   "source": [
    "# Aprendizaje Reforzado (RL)\n",
    "\n",
    "El problema fundamental de RL es \n",
    "\n",
    "> aprender que acción tomar en una situación dada (en un ambiente cambiante)\n",
    "\n",
    "El sistema que toma las decisiones e interactua con el ambiente se llama **agente**\n",
    "\n",
    "Esto supone diferencias importantes con los paradigmas de Machine Learning anteriores\n",
    "\n",
    "Resaltemos las diferencias:\n",
    "\n",
    "- **Ambiente:** En lugar de ejemplos existe un **ambiente/mundo** el cual podemos observar\n",
    "- **Observaciones:** La entrada que recibimos corresponde a la percepción (incompleta) del ambiente: **Estado**\n",
    "- **Acciones:** En lugar de predicciones se toman decisiones: Escoger y realizar una o más acciones. **Consecuencias:** Las acciones afectan el ambiente\n",
    "- **Recompensas:** En lugar de etiquetas la retroalimentación proviene de una **señal numérica llamada recompensa**. La recompensa está asociada a uno o más estados\n",
    "- **Temporalidad:** El entrenamiento y la ejecución son secuenciales, no se puede asumir iid\n",
    "\n",
    "\n",
    "El **agente** en aprendizaje reforzado es capaz de \n",
    "1. **observar el ambiente:** $O_t$\n",
    "1. **recibir recompensa del ambiente:** $R_t$\n",
    "1. **realizar acciones:** $A_t$\n",
    "\n",
    "En pseudo-código\n",
    "\n",
    "    for t in 1, 2, 3, ...., N\n",
    "        do At\n",
    "        get Ot\n",
    "        get Rt\n",
    "\n",
    "En diagrama:\n",
    "\n",
    "![Reinforcement_learning_diagram.svg.png](attachment:Reinforcement_learning_diagram.svg.png)\n",
    "\n",
    "\n",
    "#### Conceptos clave\n",
    "\n",
    "> Prueba y error: El agente debe descubrir que acción le entrega la mayor recompensa probándolas una a una\n",
    "\n",
    "> Retardo: Las recompensas pueden demorar en llegar, las acciones pueden no traer recompensa inmediata pero si en el futuro"
   ]
  },
  {
   "cell_type": "code",
   "execution_count": 2,
   "metadata": {},
   "outputs": [
    {
     "data": {
      "image/jpeg": "[encoded data removed]",
      "text/html": [
       "\n",
       "        <iframe\n",
       "            width=\"800\"\n",
       "            height=\"400\"\n",
       "            src=\"https://www.youtube.com/embed/lpi19vExbzc\"\n",
       "            frameborder=\"0\"\n",
       "            allowfullscreen\n",
       "        ></iframe>\n",
       "        "
      ],
      "text/plain": [
       "<IPython.lib.display.YouTubeVideo at 0x7f69865a1f40>"
      ]
     },
     "execution_count": 2,
     "metadata": {},
     "output_type": "execute_result"
    }
   ],
   "source": [
    "from IPython.display import YouTubeVideo\n",
    "YouTubeVideo(\"lpi19vExbzc\", width=800, height=400)"
   ]
  },
  {
   "cell_type": "markdown",
   "metadata": {},
   "source": [
    "> Puedes reconocer los agentes, las acciones, el ambiente, la recompensa y demás elementos de RL?"
   ]
  },
  {
   "cell_type": "markdown",
   "metadata": {},
   "source": [
    "#### Ejemplos de  RL\n",
    "\n",
    "Discutamos algunos ejemplos\n",
    "- \"Preparar nuestro desayuno\" (Sección 1.2, Sutton & Barto)\n",
    "    - Relacionado: https://youtu.be/E2evC2xTNWg\n",
    "- Vehículo autónomo\n",
    "- AI en videojuegos\n",
    "- [Más](https://towardsdatascience.com/applications-of-reinforcement-learning-in-real-world-1a94955bcd12)\n",
    "\n",
    "\n",
    "¿Qué tienen estos ejemplos en común?\n",
    "> Interacción entre un agente que toma decisiones y su ambiente\n",
    "\n",
    "> El agente trata de cumplir una meta a pesar de la incerteza del ambiente\n",
    "\n",
    "> El ambiente usa la experiencia que adquiere para mejorar su comportamiento"
   ]
  },
  {
   "cell_type": "markdown",
   "metadata": {},
   "source": [
    "### Recompensa\n",
    "\n",
    "- La recompensa es un indicador de que tan bueno es el agente en un tiempo determinado\n",
    "- En algunos casos solo existen una recompensa (final), en otros casos pueden haber recompensas intermedias\n",
    "\n",
    "\n",
    "Objetivo del agente:\n",
    "\n",
    "> Seleccionar accciones para maximizar la recompensa acumulada\n",
    "\n",
    "En ciertos casos podría ser mejor abandonar una recompensa intermedia en pos de obtener una mayor recompensa final\n",
    "\n",
    "\n",
    "> Todo agente de RL debe tener objetivos, debe poder sentir su ambiente y debe ser capaz de actuar sobre el mismo \n",
    "\n",
    "\n",
    "### Historia\n",
    "\n",
    "La historia $H_t$ corresponde a todas las acciones, observaciones y recompensas hasta el tiempo $t$\n",
    "\n",
    "### Estado\n",
    "\n",
    "El estado $S_t^e$ es la representación del ambiente\n",
    "\n",
    "Se usa el estado $S_t^e$ para predecir que ocurrirá en $S_{t+1}^e$ según las acciones que realicemos\n",
    "\n",
    "- No toda la información del estado es relevante\n",
    "- Usualmente no podemos observar el estado completo del ambiente\n",
    "\n",
    "El agente también tiene un estado que es función de su historia $S_t^a = f(H_t)$\n",
    "\n",
    "En un ambiente completamente observado se tiene que\n",
    "\n",
    "$$\n",
    "O_t = S_t^e = S_t^a\n",
    "$$\n",
    "\n",
    "En el caso más general se tendrá una ambiente parcialmente observado"
   ]
  },
  {
   "cell_type": "markdown",
   "metadata": {},
   "source": [
    "\n",
    "\n",
    "### Estado con propiedad markoviana\n",
    "\n",
    "Dado un tiempo $t$ me interesa saber cual es el estado siguiente $t+1$ más probable\n",
    "\n",
    "Usando la regla de la cadena podrías escribir la probabilidad condicional\n",
    "\n",
    "$$\n",
    "p(S_{t+1}| S_t, S_{t-1}, S_{t-2}, \\ldots, S_2, S_1)\n",
    "$$\n",
    "\n",
    "Una simplificación típica es la siguiente\n",
    "\n",
    "$$\n",
    "p(S_{t+1}| S_t)\n",
    "$$\n",
    "\n",
    "> El estado futuro sólo depende del presente\n",
    "\n",
    "El estado actual es un estadístico suficiente del futuro"
   ]
  },
  {
   "cell_type": "markdown",
   "metadata": {},
   "source": [
    "### Agente\n",
    "\n",
    "El agente tiene tres componentes principales \n",
    "\n",
    "- Policy: Indica como escogemos las acciones\n",
    "- Value: Se usa para evaluar los estados\n",
    "- Model: Representa el ambiente\n",
    "\n",
    "No siempre están presentes las tres\n",
    "\n",
    "- Agentes basados en modelo/agentes *model-free*\n",
    "- Agentes basados en policy o basados en value\n",
    "\n",
    "\n",
    "#### Policy\n",
    "\n",
    "Es un mapeo desde el espacio de estados al espacio de acciones: $S \\to A$\n",
    "\n",
    "Puede ser determinista\n",
    "\n",
    "$$\n",
    "a = \\pi(s)\n",
    "$$\n",
    "\n",
    "o estocástica\n",
    "\n",
    "$$\n",
    "\\pi(A|S) = P(A=a|S=s)\n",
    "$$\n",
    "\n",
    "Ej: Si hay un auto frente a mi doblo a la izquierda\n",
    "\n",
    "#### Value\n",
    "\n",
    "Es una predicción de la recompensa futura acumulada que el ambiente puede obtener partiendo de un cierto estado y siguiendo su  *policy*\n",
    "\n",
    "$$\n",
    "V_\\Pi (s) = \\mathbb{E}_\\pi [R_t + \\gamma R_{t+1} + \\gamma^2 R_{t+2} + \\ldots | S_t=s]\n",
    "$$\n",
    "\n",
    "donde $\\gamma \\approx 0.99$ es un factor de descuento que le da más importancia al presente: Controla la escala de tiempo del aprendizaje\n",
    "\n",
    "#### Model\n",
    "\n",
    "Hay dos cosas que el agente busca modelar\n",
    "\n",
    "¿Cúal será el siguiente estado?\n",
    "\n",
    "Se modela como una probabilidad de transicionar al estado $s'$ dado que estamos en $s$ y tomamos la acción $a$\n",
    "\n",
    "$$\n",
    "\\mathcal{P}_{ss'}^a = P(S_{t+1}=s'|S_t=s|A_t =a)\n",
    "$$\n",
    "\n",
    "¿Cúal será la siguiente recompensa?\n",
    "\n",
    "Se modela como el valor esperado de recompensa dado que tomo la acción $a$ en el estado $s$\n",
    "\n",
    "$$\n",
    "\\mathcal{R}_s^a = \\mathbb{E}[R|S_t=s, A_t=a]\n",
    "$$"
   ]
  },
  {
   "cell_type": "markdown",
   "metadata": {},
   "source": [
    "### Dificultades\n",
    "\n",
    "- Cuidar el balance entre la \n",
    "    - explotación: El agente ha de explotar lo que sabe para obtener recompensa\n",
    "    - exploración: El agente debe explorar para poder tomar mejores decisiones en el futuro\n",
    "    - Si nos enfocamos en una de ellas el probl\n",
    "- Toma de decisiones secuencial    "
   ]
  },
  {
   "cell_type": "markdown",
   "metadata": {},
   "source": [
    "https://github.com/openai/gym\n",
    "\n",
    "https://www.learndatasci.com/tutorials/reinforcement-q-learning-scratch-python-openai-gym/"
   ]
  },
  {
   "cell_type": "code",
   "execution_count": 3,
   "metadata": {
    "scrolled": false
   },
   "outputs": [
    {
     "name": "stdout",
     "output_type": "stream",
     "text": [
      "+---------+\n",
      "|R: | : :G|\n",
      "| : | : : |\n",
      "| : :\u001b[43m \u001b[0m: : |\n",
      "| | : | : |\n",
      "|\u001b[35mY\u001b[0m| : |\u001b[34;1mB\u001b[0m: |\n",
      "+---------+\n",
      "\n",
      "+---------+\n",
      "|R: | : :G|\n",
      "| : |\u001b[43m \u001b[0m: : |\n",
      "| : : : : |\n",
      "| | : | : |\n",
      "|\u001b[35mY\u001b[0m| : |\u001b[34;1mB\u001b[0m: |\n",
      "+---------+\n",
      "  (North)\n",
      "+---------+\n",
      "|R: | : :G|\n",
      "| : | :\u001b[43m \u001b[0m: |\n",
      "| : : : : |\n",
      "| | : | : |\n",
      "|\u001b[35mY\u001b[0m| : |\u001b[34;1mB\u001b[0m: |\n",
      "+---------+\n",
      "  (East)\n",
      "+---------+\n",
      "|R: | : :G|\n",
      "| : | :\u001b[43m \u001b[0m: |\n",
      "| : : : : |\n",
      "| | : | : |\n",
      "|\u001b[35mY\u001b[0m| : |\u001b[34;1mB\u001b[0m: |\n",
      "+---------+\n",
      "  (Dropoff)\n",
      "+---------+\n",
      "|R: | : :G|\n",
      "| : | : :\u001b[43m \u001b[0m|\n",
      "| : : : : |\n",
      "| | : | : |\n",
      "|\u001b[35mY\u001b[0m| : |\u001b[34;1mB\u001b[0m: |\n",
      "+---------+\n",
      "  (East)\n",
      "+---------+\n",
      "|R: | : :G|\n",
      "| : | : :\u001b[43m \u001b[0m|\n",
      "| : : : : |\n",
      "| | : | : |\n",
      "|\u001b[35mY\u001b[0m| : |\u001b[34;1mB\u001b[0m: |\n",
      "+---------+\n",
      "  (East)\n",
      "+---------+\n",
      "|R: | : :G|\n",
      "| : | :\u001b[43m \u001b[0m: |\n",
      "| : : : : |\n",
      "| | : | : |\n",
      "|\u001b[35mY\u001b[0m| : |\u001b[34;1mB\u001b[0m: |\n",
      "+---------+\n",
      "  (West)\n",
      "+---------+\n",
      "|R: | : :G|\n",
      "| : | : :\u001b[43m \u001b[0m|\n",
      "| : : : : |\n",
      "| | : | : |\n",
      "|\u001b[35mY\u001b[0m| : |\u001b[34;1mB\u001b[0m: |\n",
      "+---------+\n",
      "  (East)\n",
      "+---------+\n",
      "|R: | : :G|\n",
      "| : | : :\u001b[43m \u001b[0m|\n",
      "| : : : : |\n",
      "| | : | : |\n",
      "|\u001b[35mY\u001b[0m| : |\u001b[34;1mB\u001b[0m: |\n",
      "+---------+\n",
      "  (East)\n",
      "+---------+\n",
      "|R: | : :G|\n",
      "| : | : :\u001b[43m \u001b[0m|\n",
      "| : : : : |\n",
      "| | : | : |\n",
      "|\u001b[35mY\u001b[0m| : |\u001b[34;1mB\u001b[0m: |\n",
      "+---------+\n",
      "  (Dropoff)\n"
     ]
    }
   ],
   "source": [
    "%matplotlib inline\n",
    "import numpy as np\n",
    "import matplotlib.pyplot as plt\n",
    "import gym\n",
    "from IPython import display\n",
    "\n",
    "env = gym.make(\"Taxi-v3\")\n",
    "#env = gym.make(\"CartPole-v1\")\n",
    "#env = gym.make(\"SpaceInvaders-v0\")\n",
    "env.reset()\n",
    "#plt.figure(figsize=(9,9), tight_layout=True)\n",
    "#img = plt.imshow(env.render(mode='rgb_array')) # only call this once\n",
    "\n",
    "for _ in range(10):\n",
    "    env.render()\n",
    "    #img.set_data(env.render(mode='rgb_array')) # just update the data\n",
    "    #display.display(plt.gcf())\n",
    "    #display.clear_output(wait=True)    \n",
    "    action = env.action_space.sample() # Random acction\n",
    "    observation, reward, done, info = env.step(action)\n",
    "\n",
    "    if done:\n",
    "        observation = env.reset()\n",
    "env.close()"
   ]
  },
  {
   "cell_type": "markdown",
   "metadata": {},
   "source": [
    "https://metacar-project.com/\n",
    "\n",
    "https://www.youtube.com/watch?v=zR11FLZ-O9M&list=WL&index=14&t=0s"
   ]
  },
  {
   "cell_type": "markdown",
   "metadata": {},
   "source": [
    "http://www.cs.us.es/~fsancho/?e=109"
   ]
  }
 ],
 "metadata": {
  "kernelspec": {
   "display_name": "Ptyhon (RL)",
   "language": "python",
   "name": "rl"
  },
  "language_info": {
   "codemirror_mode": {
    "name": "ipython",
    "version": 3
   },
   "file_extension": ".py",
   "mimetype": "text/x-python",
   "name": "python",
   "nbconvert_exporter": "python",
   "pygments_lexer": "ipython3",
   "version": "3.8.1"
  }
 },
 "nbformat": 4,
 "nbformat_minor": 2
}
