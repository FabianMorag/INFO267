{
 "cells": [
  {
   "cell_type": "markdown",
   "metadata": {},
   "source": [
    "# Notebook 2:  Clustering con GMM y Algoritmos Jerárquicos\n",
    "\n",
    "En este notebook vamos a implementar el algoritmo de clustering de Mezcla de Normales en R. El objetivo es entender como funciona este algoritmo y  aprender a utilizarlo con un ejemplo simple. Se incluye además la estrategia para definir el número de grupos k. Al final se propone un ejercicio con nuevos datos, con el fin de aprender a utilizar el algoritmo. "
   ]
  },
  {
   "cell_type": "code",
   "execution_count": 4,
   "metadata": {},
   "outputs": [
    {
     "data": {
      "text/plain": [
       "     WATER          PROTEIN            FAT           LACTOSE     \n",
       " Min.   :44.90   Min.   : 0.600   Min.   : 1.00   Min.   :0.000  \n",
       " 1st Qu.:71.30   1st Qu.: 3.000   1st Qu.: 3.40   1st Qu.:2.700  \n",
       " Median :82.00   Median : 5.900   Median : 6.30   Median :4.700  \n",
       " Mean   :78.18   Mean   : 6.212   Mean   :10.31   Mean   :4.132  \n",
       " 3rd Qu.:87.70   3rd Qu.: 9.700   3rd Qu.:13.10   3rd Qu.:5.600  \n",
       " Max.   :90.40   Max.   :12.300   Max.   :42.00   Max.   :6.900  \n",
       "      ASH        \n",
       " Min.   :0.1000  \n",
       " 1st Qu.:0.5300  \n",
       " Median :0.8000  \n",
       " Mean   :0.8632  \n",
       " 3rd Qu.:1.1000  \n",
       " Max.   :2.3000  "
      ]
     },
     "metadata": {},
     "output_type": "display_data"
    }
   ],
   "source": [
    "library(mclust)\n",
    "library(cluster)\n",
    "#ruta datos\n",
    "#lee datos del archivo de texto como una matriz. La primera #columna se utiliza como vector de nombres de las filas\n",
    "datos <-read.table(\"milk1.dat\",row.names=1,dec=\".\",header=TRUE)\n",
    "summary(datos)"
   ]
  },
  {
   "cell_type": "code",
   "execution_count": 5,
   "metadata": {
    "scrolled": false
   },
   "outputs": [
    {
     "data": {
      "text/plain": [
       "---------------------------------------------------- \n",
       "Gaussian finite mixture model fitted by EM algorithm \n",
       "---------------------------------------------------- \n",
       "\n",
       "Mclust VEV (ellipsoidal, equal shape) model with 5 components: \n",
       "\n",
       " log-likelihood  n df       BIC       ICL\n",
       "      -61.27834 25 88 -405.8178 -405.8187\n",
       "\n",
       "Clustering table:\n",
       "1 2 3 4 5 \n",
       "5 6 7 5 2 "
      ]
     },
     "metadata": {},
     "output_type": "display_data"
    },
    {
     "data": {
      "text/plain": [
       "'Mclust' model object: (VEV,5) \n",
       "\n",
       "Available components: \n",
       " [1] \"call\"           \"data\"           \"modelName\"      \"n\"             \n",
       " [5] \"d\"              \"G\"              \"BIC\"            \"bic\"           \n",
       " [9] \"loglik\"         \"df\"             \"hypvol\"         \"parameters\"    \n",
       "[13] \"z\"              \"classification\" \"uncertainty\"   "
      ]
     },
     "metadata": {},
     "output_type": "display_data"
    },
    {
     "data": {
      "text/html": [
       "<table>\n",
       "<caption>A matrix: 5 × 5 of type dbl</caption>\n",
       "<thead>\n",
       "\t<tr><th scope=col>WATER</th><th scope=col>PROTEIN</th><th scope=col>FAT</th><th scope=col>LACTOSE</th><th scope=col>ASH</th></tr>\n",
       "</thead>\n",
       "<tbody>\n",
       "\t<tr><td>89.46000</td><td> 1.980000</td><td> 2.080000</td><td>6.200000</td><td>0.3280000</td></tr>\n",
       "\t<tr><td>80.61685</td><td> 6.349913</td><td> 8.366474</td><td>3.966725</td><td>0.7716746</td></tr>\n",
       "\t<tr><td>84.71440</td><td> 4.757112</td><td> 4.757069</td><td>5.100025</td><td>0.8185677</td></tr>\n",
       "\t<tr><td>67.86000</td><td>10.740000</td><td>17.380000</td><td>2.380000</td><td>1.6400000</td></tr>\n",
       "\t<tr><td>45.65000</td><td>10.150000</td><td>38.450000</td><td>0.450000</td><td>0.6900000</td></tr>\n",
       "</tbody>\n",
       "</table>\n"
      ],
      "text/latex": [
       "A matrix: 5 × 5 of type dbl\n",
       "\\begin{tabular}{lllll}\n",
       " WATER & PROTEIN & FAT & LACTOSE & ASH\\\\\n",
       "\\hline\n",
       "\t 89.46000 &  1.980000 &  2.080000 & 6.200000 & 0.3280000\\\\\n",
       "\t 80.61685 &  6.349913 &  8.366474 & 3.966725 & 0.7716746\\\\\n",
       "\t 84.71440 &  4.757112 &  4.757069 & 5.100025 & 0.8185677\\\\\n",
       "\t 67.86000 & 10.740000 & 17.380000 & 2.380000 & 1.6400000\\\\\n",
       "\t 45.65000 & 10.150000 & 38.450000 & 0.450000 & 0.6900000\\\\\n",
       "\\end{tabular}\n"
      ],
      "text/markdown": [
       "\n",
       "A matrix: 5 × 5 of type dbl\n",
       "\n",
       "| WATER | PROTEIN | FAT | LACTOSE | ASH |\n",
       "|---|---|---|---|---|\n",
       "| 89.46000 |  1.980000 |  2.080000 | 6.200000 | 0.3280000 |\n",
       "| 80.61685 |  6.349913 |  8.366474 | 3.966725 | 0.7716746 |\n",
       "| 84.71440 |  4.757112 |  4.757069 | 5.100025 | 0.8185677 |\n",
       "| 67.86000 | 10.740000 | 17.380000 | 2.380000 | 1.6400000 |\n",
       "| 45.65000 | 10.150000 | 38.450000 | 0.450000 | 0.6900000 |\n",
       "\n"
      ],
      "text/plain": [
       "     WATER    PROTEIN   FAT       LACTOSE  ASH      \n",
       "[1,] 89.46000  1.980000  2.080000 6.200000 0.3280000\n",
       "[2,] 80.61685  6.349913  8.366474 3.966725 0.7716746\n",
       "[3,] 84.71440  4.757112  4.757069 5.100025 0.8185677\n",
       "[4,] 67.86000 10.740000 17.380000 2.380000 1.6400000\n",
       "[5,] 45.65000 10.150000 38.450000 0.450000 0.6900000"
      ]
     },
     "metadata": {},
     "output_type": "display_data"
    },
    {
     "data": {
      "text/html": [
       "<style>\n",
       ".dl-inline {width: auto; margin:0; padding: 0}\n",
       ".dl-inline>dt, .dl-inline>dd {float: none; width: auto; display: inline-block}\n",
       ".dl-inline>dt::after {content: \":\\0020\"; padding-right: .5ex}\n",
       ".dl-inline>dt:not(:first-of-type) {padding-left: .5ex}\n",
       "</style><dl class=dl-inline><dt>HORSE</dt><dd>1</dd><dt>ORANGUTAN</dt><dd>1</dd><dt>MONKEY</dt><dd>1</dd><dt>DONKEY</dt><dd>1</dd><dt>HIPPO</dt><dd>2</dd><dt>CAMEL</dt><dd>3</dd><dt>BISON</dt><dd>3</dd><dt>BUFFALO</dt><dd>3</dd><dt>GUINEA_PIG</dt><dd>2</dd><dt>CAT</dt><dd>2</dd><dt>FOX</dt><dd>3</dd><dt>LLAMA</dt><dd>3</dd><dt>MULE</dt><dd>1</dd><dt>PIG</dt><dd>2</dd><dt>ZEBRA</dt><dd>3</dd><dt>SHEEP</dt><dd>3</dd><dt>DOG</dt><dd>2</dd><dt>ELEPHANT</dt><dd>2</dd><dt>RABBIT</dt><dd>4</dd><dt>RAT</dt><dd>4</dd><dt>DEER</dt><dd>4</dd><dt>REINDEER</dt><dd>4</dd><dt>WHALE</dt><dd>4</dd><dt>SEAL</dt><dd>5</dd><dt>DOLPHIN</dt><dd>5</dd></dl>\n"
      ],
      "text/latex": [
       "\\begin{description*}\n",
       "\\item[HORSE] 1\n",
       "\\item[ORANGUTAN] 1\n",
       "\\item[MONKEY] 1\n",
       "\\item[DONKEY] 1\n",
       "\\item[HIPPO] 2\n",
       "\\item[CAMEL] 3\n",
       "\\item[BISON] 3\n",
       "\\item[BUFFALO] 3\n",
       "\\item[GUINEA\\textbackslash{}\\_PIG] 2\n",
       "\\item[CAT] 2\n",
       "\\item[FOX] 3\n",
       "\\item[LLAMA] 3\n",
       "\\item[MULE] 1\n",
       "\\item[PIG] 2\n",
       "\\item[ZEBRA] 3\n",
       "\\item[SHEEP] 3\n",
       "\\item[DOG] 2\n",
       "\\item[ELEPHANT] 2\n",
       "\\item[RABBIT] 4\n",
       "\\item[RAT] 4\n",
       "\\item[DEER] 4\n",
       "\\item[REINDEER] 4\n",
       "\\item[WHALE] 4\n",
       "\\item[SEAL] 5\n",
       "\\item[DOLPHIN] 5\n",
       "\\end{description*}\n"
      ],
      "text/markdown": [
       "HORSE\n",
       ":   1ORANGUTAN\n",
       ":   1MONKEY\n",
       ":   1DONKEY\n",
       ":   1HIPPO\n",
       ":   2CAMEL\n",
       ":   3BISON\n",
       ":   3BUFFALO\n",
       ":   3GUINEA_PIG\n",
       ":   2CAT\n",
       ":   2FOX\n",
       ":   3LLAMA\n",
       ":   3MULE\n",
       ":   1PIG\n",
       ":   2ZEBRA\n",
       ":   3SHEEP\n",
       ":   3DOG\n",
       ":   2ELEPHANT\n",
       ":   2RABBIT\n",
       ":   4RAT\n",
       ":   4DEER\n",
       ":   4REINDEER\n",
       ":   4WHALE\n",
       ":   4SEAL\n",
       ":   5DOLPHIN\n",
       ":   5\n",
       "\n"
      ],
      "text/plain": [
       "     HORSE  ORANGUTAN     MONKEY     DONKEY      HIPPO      CAMEL      BISON \n",
       "         1          1          1          1          2          3          3 \n",
       "   BUFFALO GUINEA_PIG        CAT        FOX      LLAMA       MULE        PIG \n",
       "         3          2          2          3          3          1          2 \n",
       "     ZEBRA      SHEEP        DOG   ELEPHANT     RABBIT        RAT       DEER \n",
       "         3          3          2          2          4          4          4 \n",
       "  REINDEER      WHALE       SEAL    DOLPHIN \n",
       "         4          4          5          5 "
      ]
     },
     "metadata": {},
     "output_type": "display_data"
    }
   ],
   "source": [
    "clus <-Mclust(datos, G=5)\n",
    "summary(clus)\n",
    "clus\n",
    "\n",
    "cl <- clus$classification\n",
    "centers <- t(clus$parameters$mean)\n",
    "centers\n",
    "cl"
   ]
  },
  {
   "cell_type": "code",
   "execution_count": 6,
   "metadata": {},
   "outputs": [
    {
     "name": "stderr",
     "output_type": "stream",
     "text": [
      "Warning message:\n",
      "\"package 'factoextra' was built under R version 3.6.3\"\n",
      "Loading required package: ggplot2\n",
      "\n",
      "Warning message:\n",
      "\"package 'ggplot2' was built under R version 3.6.2\"\n",
      "Welcome! Want to learn more? See two factoextra-related books at https://goo.gl/ve3WBa\n",
      "\n",
      "Too few points to calculate an ellipse\n",
      "\n"
     ]
    },
    {
     "data": {
      "image/png": "[encoded data removed]",
      "text/plain": [
       "plot without title"
      ]
     },
     "metadata": {
      "image/png": {
       "height": 420,
       "width": 420
      }
     },
     "output_type": "display_data"
    }
   ],
   "source": [
    "library(factoextra)\n",
    "fviz_mclust(clus, what = \"classification\", geom=\"point\", pallete = \"jco\")"
   ]
  },
  {
   "cell_type": "markdown",
   "metadata": {},
   "source": [
    "Ejercicio 1: \n",
    "\n",
    "a) Explique como funciona el método Mclust, describa parámetros de entrada y salida.\n",
    "\n",
    "b) Interprete y comente los resultados obtenidos. "
   ]
  },
  {
   "cell_type": "markdown",
   "metadata": {},
   "source": [
    "**Respuesta 1**\n",
    "\n",
    "a)Mclust realiza una comparación de datos usando una distribución gaussiana, los parametros de la función son los datos y la cantidad de gaussianas que se desea utilizar para agrupar los datos. Entones gráficamente se ven como ovalos, que en dos dimensiones serían gaussianas, donde no todos los puntos tienen la misma probabilidad de pertenecer a un grupo, hay puntos que están más cercanos a los centrados a los centros de los ovalos, de los que se influye que su asignacion es más fiable. De los puntos apartados de los ovalos, se infiere que su asignación es menos segura.\n",
    "\n",
    "b)Dependiende del G utilizado, podemos dividir las leches en distintos grupos, pero gráficamente se pueden observar 3 grandes grupos, pero esto es muy variable, es simplemente una percepción visual."
   ]
  },
  {
   "cell_type": "markdown",
   "metadata": {},
   "source": [
    "Ejercicio 2: Repita el procedimiento considerando 2, 3 y 4 grupos. Discuta y compare  sus resultados con aquellos obtenidos con k-means"
   ]
  },
  {
   "cell_type": "code",
   "execution_count": 7,
   "metadata": {},
   "outputs": [
    {
     "data": {
      "text/plain": [
       "---------------------------------------------------- \n",
       "Gaussian finite mixture model fitted by EM algorithm \n",
       "---------------------------------------------------- \n",
       "\n",
       "Mclust EVV (ellipsoidal, equal volume) model with 2 components: \n",
       "\n",
       " log-likelihood  n df       BIC       ICL\n",
       "      -176.5541 25 40 -481.8633 -481.8762\n",
       "\n",
       "Clustering table:\n",
       " 1  2 \n",
       "18  7 "
      ]
     },
     "metadata": {},
     "output_type": "display_data"
    },
    {
     "data": {
      "text/plain": [
       "'Mclust' model object: (EVV,2) \n",
       "\n",
       "Available components: \n",
       " [1] \"call\"           \"data\"           \"modelName\"      \"n\"             \n",
       " [5] \"d\"              \"G\"              \"BIC\"            \"bic\"           \n",
       " [9] \"loglik\"         \"df\"             \"hypvol\"         \"parameters\"    \n",
       "[13] \"z\"              \"classification\" \"uncertainty\"   "
      ]
     },
     "metadata": {},
     "output_type": "display_data"
    },
    {
     "data": {
      "text/html": [
       "<table>\n",
       "<caption>A matrix: 2 × 5 of type dbl</caption>\n",
       "<thead>\n",
       "\t<tr><th scope=col>WATER</th><th scope=col>PROTEIN</th><th scope=col>FAT</th><th scope=col>LACTOSE</th><th scope=col>ASH</th></tr>\n",
       "</thead>\n",
       "<tbody>\n",
       "\t<tr><td>84.69570</td><td>5.001479</td><td> 4.969356</td><td>4.821686</td><td>0.7596701</td></tr>\n",
       "\t<tr><td>61.41853</td><td>9.328688</td><td>24.053235</td><td>2.356288</td><td>1.1297551</td></tr>\n",
       "</tbody>\n",
       "</table>\n"
      ],
      "text/latex": [
       "A matrix: 2 × 5 of type dbl\n",
       "\\begin{tabular}{lllll}\n",
       " WATER & PROTEIN & FAT & LACTOSE & ASH\\\\\n",
       "\\hline\n",
       "\t 84.69570 & 5.001479 &  4.969356 & 4.821686 & 0.7596701\\\\\n",
       "\t 61.41853 & 9.328688 & 24.053235 & 2.356288 & 1.1297551\\\\\n",
       "\\end{tabular}\n"
      ],
      "text/markdown": [
       "\n",
       "A matrix: 2 × 5 of type dbl\n",
       "\n",
       "| WATER | PROTEIN | FAT | LACTOSE | ASH |\n",
       "|---|---|---|---|---|\n",
       "| 84.69570 | 5.001479 |  4.969356 | 4.821686 | 0.7596701 |\n",
       "| 61.41853 | 9.328688 | 24.053235 | 2.356288 | 1.1297551 |\n",
       "\n"
      ],
      "text/plain": [
       "     WATER    PROTEIN  FAT       LACTOSE  ASH      \n",
       "[1,] 84.69570 5.001479  4.969356 4.821686 0.7596701\n",
       "[2,] 61.41853 9.328688 24.053235 2.356288 1.1297551"
      ]
     },
     "metadata": {},
     "output_type": "display_data"
    },
    {
     "data": {
      "text/html": [
       "<style>\n",
       ".dl-inline {width: auto; margin:0; padding: 0}\n",
       ".dl-inline>dt, .dl-inline>dd {float: none; width: auto; display: inline-block}\n",
       ".dl-inline>dt::after {content: \":\\0020\"; padding-right: .5ex}\n",
       ".dl-inline>dt:not(:first-of-type) {padding-left: .5ex}\n",
       "</style><dl class=dl-inline><dt>HORSE</dt><dd>1</dd><dt>ORANGUTAN</dt><dd>1</dd><dt>MONKEY</dt><dd>1</dd><dt>DONKEY</dt><dd>1</dd><dt>HIPPO</dt><dd>1</dd><dt>CAMEL</dt><dd>1</dd><dt>BISON</dt><dd>1</dd><dt>BUFFALO</dt><dd>1</dd><dt>GUINEA_PIG</dt><dd>1</dd><dt>CAT</dt><dd>1</dd><dt>FOX</dt><dd>1</dd><dt>LLAMA</dt><dd>1</dd><dt>MULE</dt><dd>1</dd><dt>PIG</dt><dd>1</dd><dt>ZEBRA</dt><dd>1</dd><dt>SHEEP</dt><dd>1</dd><dt>DOG</dt><dd>1</dd><dt>ELEPHANT</dt><dd>2</dd><dt>RABBIT</dt><dd>1</dd><dt>RAT</dt><dd>2</dd><dt>DEER</dt><dd>2</dd><dt>REINDEER</dt><dd>2</dd><dt>WHALE</dt><dd>2</dd><dt>SEAL</dt><dd>2</dd><dt>DOLPHIN</dt><dd>2</dd></dl>\n"
      ],
      "text/latex": [
       "\\begin{description*}\n",
       "\\item[HORSE] 1\n",
       "\\item[ORANGUTAN] 1\n",
       "\\item[MONKEY] 1\n",
       "\\item[DONKEY] 1\n",
       "\\item[HIPPO] 1\n",
       "\\item[CAMEL] 1\n",
       "\\item[BISON] 1\n",
       "\\item[BUFFALO] 1\n",
       "\\item[GUINEA\\textbackslash{}\\_PIG] 1\n",
       "\\item[CAT] 1\n",
       "\\item[FOX] 1\n",
       "\\item[LLAMA] 1\n",
       "\\item[MULE] 1\n",
       "\\item[PIG] 1\n",
       "\\item[ZEBRA] 1\n",
       "\\item[SHEEP] 1\n",
       "\\item[DOG] 1\n",
       "\\item[ELEPHANT] 2\n",
       "\\item[RABBIT] 1\n",
       "\\item[RAT] 2\n",
       "\\item[DEER] 2\n",
       "\\item[REINDEER] 2\n",
       "\\item[WHALE] 2\n",
       "\\item[SEAL] 2\n",
       "\\item[DOLPHIN] 2\n",
       "\\end{description*}\n"
      ],
      "text/markdown": [
       "HORSE\n",
       ":   1ORANGUTAN\n",
       ":   1MONKEY\n",
       ":   1DONKEY\n",
       ":   1HIPPO\n",
       ":   1CAMEL\n",
       ":   1BISON\n",
       ":   1BUFFALO\n",
       ":   1GUINEA_PIG\n",
       ":   1CAT\n",
       ":   1FOX\n",
       ":   1LLAMA\n",
       ":   1MULE\n",
       ":   1PIG\n",
       ":   1ZEBRA\n",
       ":   1SHEEP\n",
       ":   1DOG\n",
       ":   1ELEPHANT\n",
       ":   2RABBIT\n",
       ":   1RAT\n",
       ":   2DEER\n",
       ":   2REINDEER\n",
       ":   2WHALE\n",
       ":   2SEAL\n",
       ":   2DOLPHIN\n",
       ":   2\n",
       "\n"
      ],
      "text/plain": [
       "     HORSE  ORANGUTAN     MONKEY     DONKEY      HIPPO      CAMEL      BISON \n",
       "         1          1          1          1          1          1          1 \n",
       "   BUFFALO GUINEA_PIG        CAT        FOX      LLAMA       MULE        PIG \n",
       "         1          1          1          1          1          1          1 \n",
       "     ZEBRA      SHEEP        DOG   ELEPHANT     RABBIT        RAT       DEER \n",
       "         1          1          1          2          1          2          2 \n",
       "  REINDEER      WHALE       SEAL    DOLPHIN \n",
       "         2          2          2          2 "
      ]
     },
     "metadata": {},
     "output_type": "display_data"
    },
    {
     "data": {
      "image/png": "[encoded data removed]",
      "text/plain": [
       "plot without title"
      ]
     },
     "metadata": {
      "image/png": {
       "height": 420,
       "width": 420
      }
     },
     "output_type": "display_data"
    }
   ],
   "source": [
    "clus <-Mclust(datos, G=2)\n",
    "summary(clus)\n",
    "clus\n",
    "\n",
    "cl <- clus$classification\n",
    "centers <- t(clus$parameters$mean)\n",
    "centers\n",
    "cl\n",
    "\n",
    "fviz_mclust(clus, what = \"classification\", geom=\"point\", pallete = \"jco\")"
   ]
  },
  {
   "cell_type": "code",
   "execution_count": 8,
   "metadata": {},
   "outputs": [
    {
     "data": {
      "text/plain": [
       "---------------------------------------------------- \n",
       "Gaussian finite mixture model fitted by EM algorithm \n",
       "---------------------------------------------------- \n",
       "\n",
       "Mclust EEV (ellipsoidal, equal volume and shape) model with 3 components: \n",
       "\n",
       " log-likelihood  n df       BIC       ICL\n",
       "      -144.2366 25 52 -455.8548 -455.8584\n",
       "\n",
       "Clustering table:\n",
       " 1  2  3 \n",
       "14  5  6 "
      ]
     },
     "metadata": {},
     "output_type": "display_data"
    },
    {
     "data": {
      "text/plain": [
       "'Mclust' model object: (EEV,3) \n",
       "\n",
       "Available components: \n",
       " [1] \"call\"           \"data\"           \"modelName\"      \"n\"             \n",
       " [5] \"d\"              \"G\"              \"BIC\"            \"bic\"           \n",
       " [9] \"loglik\"         \"df\"             \"hypvol\"         \"parameters\"    \n",
       "[13] \"z\"              \"classification\" \"uncertainty\"   "
      ]
     },
     "metadata": {},
     "output_type": "display_data"
    },
    {
     "data": {
      "text/html": [
       "<table>\n",
       "<caption>A matrix: 3 × 5 of type dbl</caption>\n",
       "<thead>\n",
       "\t<tr><th scope=col>WATER</th><th scope=col>PROTEIN</th><th scope=col>FAT</th><th scope=col>LACTOSE</th><th scope=col>ASH</th></tr>\n",
       "</thead>\n",
       "<tbody>\n",
       "\t<tr><td>86.26361</td><td> 3.879049</td><td> 3.921919</td><td>5.221110</td><td>0.6421765</td></tr>\n",
       "\t<tr><td>72.23683</td><td> 7.520039</td><td>14.782487</td><td>3.660315</td><td>0.7079534</td></tr>\n",
       "\t<tr><td>64.28310</td><td>10.566706</td><td>21.483587</td><td>1.983296</td><td>1.5083364</td></tr>\n",
       "</tbody>\n",
       "</table>\n"
      ],
      "text/latex": [
       "A matrix: 3 × 5 of type dbl\n",
       "\\begin{tabular}{lllll}\n",
       " WATER & PROTEIN & FAT & LACTOSE & ASH\\\\\n",
       "\\hline\n",
       "\t 86.26361 &  3.879049 &  3.921919 & 5.221110 & 0.6421765\\\\\n",
       "\t 72.23683 &  7.520039 & 14.782487 & 3.660315 & 0.7079534\\\\\n",
       "\t 64.28310 & 10.566706 & 21.483587 & 1.983296 & 1.5083364\\\\\n",
       "\\end{tabular}\n"
      ],
      "text/markdown": [
       "\n",
       "A matrix: 3 × 5 of type dbl\n",
       "\n",
       "| WATER | PROTEIN | FAT | LACTOSE | ASH |\n",
       "|---|---|---|---|---|\n",
       "| 86.26361 |  3.879049 |  3.921919 | 5.221110 | 0.6421765 |\n",
       "| 72.23683 |  7.520039 | 14.782487 | 3.660315 | 0.7079534 |\n",
       "| 64.28310 | 10.566706 | 21.483587 | 1.983296 | 1.5083364 |\n",
       "\n"
      ],
      "text/plain": [
       "     WATER    PROTEIN   FAT       LACTOSE  ASH      \n",
       "[1,] 86.26361  3.879049  3.921919 5.221110 0.6421765\n",
       "[2,] 72.23683  7.520039 14.782487 3.660315 0.7079534\n",
       "[3,] 64.28310 10.566706 21.483587 1.983296 1.5083364"
      ]
     },
     "metadata": {},
     "output_type": "display_data"
    },
    {
     "data": {
      "text/html": [
       "<style>\n",
       ".dl-inline {width: auto; margin:0; padding: 0}\n",
       ".dl-inline>dt, .dl-inline>dd {float: none; width: auto; display: inline-block}\n",
       ".dl-inline>dt::after {content: \":\\0020\"; padding-right: .5ex}\n",
       ".dl-inline>dt:not(:first-of-type) {padding-left: .5ex}\n",
       "</style><dl class=dl-inline><dt>HORSE</dt><dd>1</dd><dt>ORANGUTAN</dt><dd>1</dd><dt>MONKEY</dt><dd>1</dd><dt>DONKEY</dt><dd>1</dd><dt>HIPPO</dt><dd>1</dd><dt>CAMEL</dt><dd>1</dd><dt>BISON</dt><dd>1</dd><dt>BUFFALO</dt><dd>2</dd><dt>GUINEA_PIG</dt><dd>2</dd><dt>CAT</dt><dd>2</dd><dt>FOX</dt><dd>1</dd><dt>LLAMA</dt><dd>1</dd><dt>MULE</dt><dd>1</dd><dt>PIG</dt><dd>1</dd><dt>ZEBRA</dt><dd>1</dd><dt>SHEEP</dt><dd>1</dd><dt>DOG</dt><dd>1</dd><dt>ELEPHANT</dt><dd>2</dd><dt>RABBIT</dt><dd>3</dd><dt>RAT</dt><dd>3</dd><dt>DEER</dt><dd>3</dd><dt>REINDEER</dt><dd>3</dd><dt>WHALE</dt><dd>3</dd><dt>SEAL</dt><dd>3</dd><dt>DOLPHIN</dt><dd>2</dd></dl>\n"
      ],
      "text/latex": [
       "\\begin{description*}\n",
       "\\item[HORSE] 1\n",
       "\\item[ORANGUTAN] 1\n",
       "\\item[MONKEY] 1\n",
       "\\item[DONKEY] 1\n",
       "\\item[HIPPO] 1\n",
       "\\item[CAMEL] 1\n",
       "\\item[BISON] 1\n",
       "\\item[BUFFALO] 2\n",
       "\\item[GUINEA\\textbackslash{}\\_PIG] 2\n",
       "\\item[CAT] 2\n",
       "\\item[FOX] 1\n",
       "\\item[LLAMA] 1\n",
       "\\item[MULE] 1\n",
       "\\item[PIG] 1\n",
       "\\item[ZEBRA] 1\n",
       "\\item[SHEEP] 1\n",
       "\\item[DOG] 1\n",
       "\\item[ELEPHANT] 2\n",
       "\\item[RABBIT] 3\n",
       "\\item[RAT] 3\n",
       "\\item[DEER] 3\n",
       "\\item[REINDEER] 3\n",
       "\\item[WHALE] 3\n",
       "\\item[SEAL] 3\n",
       "\\item[DOLPHIN] 2\n",
       "\\end{description*}\n"
      ],
      "text/markdown": [
       "HORSE\n",
       ":   1ORANGUTAN\n",
       ":   1MONKEY\n",
       ":   1DONKEY\n",
       ":   1HIPPO\n",
       ":   1CAMEL\n",
       ":   1BISON\n",
       ":   1BUFFALO\n",
       ":   2GUINEA_PIG\n",
       ":   2CAT\n",
       ":   2FOX\n",
       ":   1LLAMA\n",
       ":   1MULE\n",
       ":   1PIG\n",
       ":   1ZEBRA\n",
       ":   1SHEEP\n",
       ":   1DOG\n",
       ":   1ELEPHANT\n",
       ":   2RABBIT\n",
       ":   3RAT\n",
       ":   3DEER\n",
       ":   3REINDEER\n",
       ":   3WHALE\n",
       ":   3SEAL\n",
       ":   3DOLPHIN\n",
       ":   2\n",
       "\n"
      ],
      "text/plain": [
       "     HORSE  ORANGUTAN     MONKEY     DONKEY      HIPPO      CAMEL      BISON \n",
       "         1          1          1          1          1          1          1 \n",
       "   BUFFALO GUINEA_PIG        CAT        FOX      LLAMA       MULE        PIG \n",
       "         2          2          2          1          1          1          1 \n",
       "     ZEBRA      SHEEP        DOG   ELEPHANT     RABBIT        RAT       DEER \n",
       "         1          1          1          2          3          3          3 \n",
       "  REINDEER      WHALE       SEAL    DOLPHIN \n",
       "         3          3          3          2 "
      ]
     },
     "metadata": {},
     "output_type": "display_data"
    },
    {
     "data": {
      "image/png": "[encoded data removed]",
      "text/plain": [
       "plot without title"
      ]
     },
     "metadata": {
      "image/png": {
       "height": 420,
       "width": 420
      }
     },
     "output_type": "display_data"
    }
   ],
   "source": [
    "clus <-Mclust(datos, G=3)\n",
    "summary(clus)\n",
    "clus\n",
    "\n",
    "cl <- clus$classification\n",
    "centers <- t(clus$parameters$mean)\n",
    "centers\n",
    "cl\n",
    "\n",
    "fviz_mclust(clus, what = \"classification\", geom=\"point\", pallete = \"jco\")"
   ]
  },
  {
   "cell_type": "code",
   "execution_count": 9,
   "metadata": {
    "scrolled": false
   },
   "outputs": [
    {
     "data": {
      "text/plain": [
       "---------------------------------------------------- \n",
       "Gaussian finite mixture model fitted by EM algorithm \n",
       "---------------------------------------------------- \n",
       "\n",
       "Mclust VEV (ellipsoidal, equal shape) model with 4 components: \n",
       "\n",
       " log-likelihood  n df       BIC       ICL\n",
       "      -129.0138 25 71 -486.5678 -486.5782\n",
       "\n",
       "Clustering table:\n",
       "1 2 3 4 \n",
       "5 8 7 5 "
      ]
     },
     "metadata": {},
     "output_type": "display_data"
    },
    {
     "data": {
      "text/plain": [
       "'Mclust' model object: (VEV,4) \n",
       "\n",
       "Available components: \n",
       " [1] \"call\"           \"data\"           \"modelName\"      \"n\"             \n",
       " [5] \"d\"              \"G\"              \"BIC\"            \"bic\"           \n",
       " [9] \"loglik\"         \"df\"             \"hypvol\"         \"parameters\"    \n",
       "[13] \"z\"              \"classification\" \"uncertainty\"   "
      ]
     },
     "metadata": {},
     "output_type": "display_data"
    },
    {
     "data": {
      "text/html": [
       "<table>\n",
       "<caption>A matrix: 4 × 5 of type dbl</caption>\n",
       "<thead>\n",
       "\t<tr><th scope=col>WATER</th><th scope=col>PROTEIN</th><th scope=col>FAT</th><th scope=col>LACTOSE</th><th scope=col>ASH</th></tr>\n",
       "</thead>\n",
       "<tbody>\n",
       "\t<tr><td>89.45999</td><td> 1.980001</td><td> 2.080005</td><td>6.200009</td><td>0.3279979</td></tr>\n",
       "\t<tr><td>71.88271</td><td> 7.298580</td><td>15.881214</td><td>3.088610</td><td>0.7512686</td></tr>\n",
       "\t<tr><td>84.71493</td><td> 4.756873</td><td> 4.756149</td><td>5.100211</td><td>0.8185953</td></tr>\n",
       "\t<tr><td>67.86000</td><td>10.740002</td><td>17.380003</td><td>2.379999</td><td>1.6400005</td></tr>\n",
       "</tbody>\n",
       "</table>\n"
      ],
      "text/latex": [
       "A matrix: 4 × 5 of type dbl\n",
       "\\begin{tabular}{lllll}\n",
       " WATER & PROTEIN & FAT & LACTOSE & ASH\\\\\n",
       "\\hline\n",
       "\t 89.45999 &  1.980001 &  2.080005 & 6.200009 & 0.3279979\\\\\n",
       "\t 71.88271 &  7.298580 & 15.881214 & 3.088610 & 0.7512686\\\\\n",
       "\t 84.71493 &  4.756873 &  4.756149 & 5.100211 & 0.8185953\\\\\n",
       "\t 67.86000 & 10.740002 & 17.380003 & 2.379999 & 1.6400005\\\\\n",
       "\\end{tabular}\n"
      ],
      "text/markdown": [
       "\n",
       "A matrix: 4 × 5 of type dbl\n",
       "\n",
       "| WATER | PROTEIN | FAT | LACTOSE | ASH |\n",
       "|---|---|---|---|---|\n",
       "| 89.45999 |  1.980001 |  2.080005 | 6.200009 | 0.3279979 |\n",
       "| 71.88271 |  7.298580 | 15.881214 | 3.088610 | 0.7512686 |\n",
       "| 84.71493 |  4.756873 |  4.756149 | 5.100211 | 0.8185953 |\n",
       "| 67.86000 | 10.740002 | 17.380003 | 2.379999 | 1.6400005 |\n",
       "\n"
      ],
      "text/plain": [
       "     WATER    PROTEIN   FAT       LACTOSE  ASH      \n",
       "[1,] 89.45999  1.980001  2.080005 6.200009 0.3279979\n",
       "[2,] 71.88271  7.298580 15.881214 3.088610 0.7512686\n",
       "[3,] 84.71493  4.756873  4.756149 5.100211 0.8185953\n",
       "[4,] 67.86000 10.740002 17.380003 2.379999 1.6400005"
      ]
     },
     "metadata": {},
     "output_type": "display_data"
    },
    {
     "data": {
      "text/html": [
       "<style>\n",
       ".dl-inline {width: auto; margin:0; padding: 0}\n",
       ".dl-inline>dt, .dl-inline>dd {float: none; width: auto; display: inline-block}\n",
       ".dl-inline>dt::after {content: \":\\0020\"; padding-right: .5ex}\n",
       ".dl-inline>dt:not(:first-of-type) {padding-left: .5ex}\n",
       "</style><dl class=dl-inline><dt>HORSE</dt><dd>1</dd><dt>ORANGUTAN</dt><dd>1</dd><dt>MONKEY</dt><dd>1</dd><dt>DONKEY</dt><dd>1</dd><dt>HIPPO</dt><dd>2</dd><dt>CAMEL</dt><dd>3</dd><dt>BISON</dt><dd>3</dd><dt>BUFFALO</dt><dd>3</dd><dt>GUINEA_PIG</dt><dd>2</dd><dt>CAT</dt><dd>2</dd><dt>FOX</dt><dd>3</dd><dt>LLAMA</dt><dd>3</dd><dt>MULE</dt><dd>1</dd><dt>PIG</dt><dd>2</dd><dt>ZEBRA</dt><dd>3</dd><dt>SHEEP</dt><dd>3</dd><dt>DOG</dt><dd>2</dd><dt>ELEPHANT</dt><dd>2</dd><dt>RABBIT</dt><dd>4</dd><dt>RAT</dt><dd>4</dd><dt>DEER</dt><dd>4</dd><dt>REINDEER</dt><dd>4</dd><dt>WHALE</dt><dd>4</dd><dt>SEAL</dt><dd>2</dd><dt>DOLPHIN</dt><dd>2</dd></dl>\n"
      ],
      "text/latex": [
       "\\begin{description*}\n",
       "\\item[HORSE] 1\n",
       "\\item[ORANGUTAN] 1\n",
       "\\item[MONKEY] 1\n",
       "\\item[DONKEY] 1\n",
       "\\item[HIPPO] 2\n",
       "\\item[CAMEL] 3\n",
       "\\item[BISON] 3\n",
       "\\item[BUFFALO] 3\n",
       "\\item[GUINEA\\textbackslash{}\\_PIG] 2\n",
       "\\item[CAT] 2\n",
       "\\item[FOX] 3\n",
       "\\item[LLAMA] 3\n",
       "\\item[MULE] 1\n",
       "\\item[PIG] 2\n",
       "\\item[ZEBRA] 3\n",
       "\\item[SHEEP] 3\n",
       "\\item[DOG] 2\n",
       "\\item[ELEPHANT] 2\n",
       "\\item[RABBIT] 4\n",
       "\\item[RAT] 4\n",
       "\\item[DEER] 4\n",
       "\\item[REINDEER] 4\n",
       "\\item[WHALE] 4\n",
       "\\item[SEAL] 2\n",
       "\\item[DOLPHIN] 2\n",
       "\\end{description*}\n"
      ],
      "text/markdown": [
       "HORSE\n",
       ":   1ORANGUTAN\n",
       ":   1MONKEY\n",
       ":   1DONKEY\n",
       ":   1HIPPO\n",
       ":   2CAMEL\n",
       ":   3BISON\n",
       ":   3BUFFALO\n",
       ":   3GUINEA_PIG\n",
       ":   2CAT\n",
       ":   2FOX\n",
       ":   3LLAMA\n",
       ":   3MULE\n",
       ":   1PIG\n",
       ":   2ZEBRA\n",
       ":   3SHEEP\n",
       ":   3DOG\n",
       ":   2ELEPHANT\n",
       ":   2RABBIT\n",
       ":   4RAT\n",
       ":   4DEER\n",
       ":   4REINDEER\n",
       ":   4WHALE\n",
       ":   4SEAL\n",
       ":   2DOLPHIN\n",
       ":   2\n",
       "\n"
      ],
      "text/plain": [
       "     HORSE  ORANGUTAN     MONKEY     DONKEY      HIPPO      CAMEL      BISON \n",
       "         1          1          1          1          2          3          3 \n",
       "   BUFFALO GUINEA_PIG        CAT        FOX      LLAMA       MULE        PIG \n",
       "         3          2          2          3          3          1          2 \n",
       "     ZEBRA      SHEEP        DOG   ELEPHANT     RABBIT        RAT       DEER \n",
       "         3          3          2          2          4          4          4 \n",
       "  REINDEER      WHALE       SEAL    DOLPHIN \n",
       "         4          4          2          2 "
      ]
     },
     "metadata": {},
     "output_type": "display_data"
    },
    {
     "data": {
      "image/png": "[encoded data removed]",
      "text/plain": [
       "plot without title"
      ]
     },
     "metadata": {
      "image/png": {
       "height": 420,
       "width": 420
      }
     },
     "output_type": "display_data"
    }
   ],
   "source": [
    "clus <-Mclust(datos, G=4)\n",
    "summary(clus)\n",
    "clus\n",
    "\n",
    "cl <- clus$classification\n",
    "centers <- t(clus$parameters$mean)\n",
    "centers\n",
    "cl\n",
    "\n",
    "fviz_mclust(clus, what = \"classification\", geom=\"point\", pallete = \"jco\")"
   ]
  },
  {
   "cell_type": "markdown",
   "metadata": {},
   "source": [
    "**Respuesta 4**\n",
    "Los resultados son relativamente similares, de ambos métodos se obtiene que el mejor k podría ser 3, de forma que se agruparían las leches en 3 grupos. Eso también es observable en el siguiente graficos."
   ]
  },
  {
   "cell_type": "markdown",
   "metadata": {},
   "source": [
    "En lo que sigue, utilizaremos el método hclust, que permite realizar análisis de agrupamiento jerárquico"
   ]
  },
  {
   "cell_type": "code",
   "execution_count": 13,
   "metadata": {},
   "outputs": [
    {
     "data": {
      "image/png": "[encoded data removed]",
      "text/plain": [
       "plot without title"
      ]
     },
     "metadata": {
      "image/png": {
       "height": 420,
       "width": 420
      }
     },
     "output_type": "display_data"
    }
   ],
   "source": [
    "library(dendextend)\n",
    "\n",
    "res3 <- hclust(dist(datos))\n",
    "dend <- as.dendrogram(res3)\n",
    "dend <- color_branches(dend, k=3)\n",
    "plot(dend)"
   ]
  },
  {
   "cell_type": "markdown",
   "metadata": {},
   "source": [
    "Ejercicio 3: \n",
    "\n",
    "a) Explique como funciona el método hclust, describa parámetros de entrada y salida.\n",
    "\n",
    "b) Interprete y comente los resultados obtenidos. \n",
    "\n",
    "c) Utilice otros parámetros en hclust y discuta como varían los resultados. "
   ]
  },
  {
   "cell_type": "markdown",
   "metadata": {},
   "source": [
    "**Respuesta 3**\n",
    "\n",
    "a)Lo que hace este algoritmo, es ir agrupando datos de acuerdo a su similitud, se agrupan en pares, y luego esos pares se agrupan a otro datos cercano, de forma que se construye un arbol de cercanía. Esto se observa claramente en el gráfico anterior\n",
    "\n",
    "b)Del gráfico se puede obtener que existen 2 grandes grupos, uno que incluye a casi todas las leches, y el otro que considera solo 2 leches, la del delfin y la de la foca, dentro del grupo grande, también tenemos otra division grande de 3 grupos. Digamos que a nivel global son 3 o 4 grupos, así podríamos interpretar el gráfico.\n",
    "\n",
    "c)"
   ]
  },
  {
   "cell_type": "markdown",
   "metadata": {},
   "source": [
    "Ejercicio 4: \n",
    "\n",
    "a) Realice un análisis de clustering con Kmeans, GMM y Análisis Jerárquico para el conjunto de datos iris.csv\n",
    "Interprete sus resultados.\n",
    "\n",
    "b) Calcule alguna de las medidas de calidad estudiadas (purity, rand index o mutual information) \n",
    "para cada uno de los análisis realizado en (a). Discuta sus resultados."
   ]
  },
  {
   "cell_type": "code",
   "execution_count": 14,
   "metadata": {},
   "outputs": [
    {
     "data": {
      "text/plain": [
       "  Sepal.Length    Sepal.Width     Petal.Length    Petal.Width   \n",
       " Min.   :4.300   Min.   :2.000   Min.   :1.000   Min.   :0.100  \n",
       " 1st Qu.:5.100   1st Qu.:2.800   1st Qu.:1.600   1st Qu.:0.300  \n",
       " Median :5.800   Median :3.000   Median :4.350   Median :1.300  \n",
       " Mean   :5.843   Mean   :3.057   Mean   :3.758   Mean   :1.199  \n",
       " 3rd Qu.:6.400   3rd Qu.:3.300   3rd Qu.:5.100   3rd Qu.:1.800  \n",
       " Max.   :7.900   Max.   :4.400   Max.   :6.900   Max.   :2.500  "
      ]
     },
     "metadata": {},
     "output_type": "display_data"
    }
   ],
   "source": [
    "datos <-read.csv(\"iris1.csv\",row.names=1,dec=\".\",header=TRUE)\n",
    "datos<-datos[1:4]\n",
    "summary(datos)\n",
    "clases <- datos$Species"
   ]
  },
  {
   "cell_type": "code",
   "execution_count": 15,
   "metadata": {},
   "outputs": [
    {
     "data": {
      "text/plain": [
       "K-means clustering with 3 clusters of sizes 38, 62, 50\n",
       "\n",
       "Cluster means:\n",
       "  Sepal.Length Sepal.Width Petal.Length Petal.Width\n",
       "1     6.850000    3.073684     5.742105    2.071053\n",
       "2     5.901613    2.748387     4.393548    1.433871\n",
       "3     5.006000    3.428000     1.462000    0.246000\n",
       "\n",
       "Clustering vector:\n",
       "  1   2   3   4   5   6   7   8   9  10  11  12  13  14  15  16  17  18  19  20 \n",
       "  3   3   3   3   3   3   3   3   3   3   3   3   3   3   3   3   3   3   3   3 \n",
       " 21  22  23  24  25  26  27  28  29  30  31  32  33  34  35  36  37  38  39  40 \n",
       "  3   3   3   3   3   3   3   3   3   3   3   3   3   3   3   3   3   3   3   3 \n",
       " 41  42  43  44  45  46  47  48  49  50  51  52  53  54  55  56  57  58  59  60 \n",
       "  3   3   3   3   3   3   3   3   3   3   2   2   1   2   2   2   2   2   2   2 \n",
       " 61  62  63  64  65  66  67  68  69  70  71  72  73  74  75  76  77  78  79  80 \n",
       "  2   2   2   2   2   2   2   2   2   2   2   2   2   2   2   2   2   1   2   2 \n",
       " 81  82  83  84  85  86  87  88  89  90  91  92  93  94  95  96  97  98  99 100 \n",
       "  2   2   2   2   2   2   2   2   2   2   2   2   2   2   2   2   2   2   2   2 \n",
       "101 102 103 104 105 106 107 108 109 110 111 112 113 114 115 116 117 118 119 120 \n",
       "  1   2   1   1   1   1   2   1   1   1   1   1   1   2   2   1   1   1   1   2 \n",
       "121 122 123 124 125 126 127 128 129 130 131 132 133 134 135 136 137 138 139 140 \n",
       "  1   2   1   2   1   1   2   2   1   1   1   1   1   2   1   1   1   1   2   1 \n",
       "141 142 143 144 145 146 147 148 149 150 \n",
       "  1   1   2   1   1   1   2   1   1   2 \n",
       "\n",
       "Within cluster sum of squares by cluster:\n",
       "[1] 23.87947 39.82097 15.15100\n",
       " (between_SS / total_SS =  88.4 %)\n",
       "\n",
       "Available components:\n",
       "\n",
       "[1] \"cluster\"      \"centers\"      \"totss\"        \"withinss\"     \"tot.withinss\"\n",
       "[6] \"betweenss\"    \"size\"         \"iter\"         \"ifault\"      "
      ]
     },
     "metadata": {},
     "output_type": "display_data"
    },
    {
     "data": {
      "image/png": "[encoded data removed]",
      "text/plain": [
       "plot without title"
      ]
     },
     "metadata": {
      "image/png": {
       "height": 420,
       "width": 420
      }
     },
     "output_type": "display_data"
    },
    {
     "data": {
      "image/png": "[encoded data removed]",
      "text/plain": [
       "plot without title"
      ]
     },
     "metadata": {
      "image/png": {
       "height": 420,
       "width": 420
      }
     },
     "output_type": "display_data"
    }
   ],
   "source": [
    "k0<-3\n",
    "cl <- kmeans(datos, k0, iter.max = 1000, nstart = 10)\n",
    "cl\n",
    "pairs(datos,col=cl$cluster)\n",
    "\n",
    "res <- princomp(datos, cor=TRUE)\n",
    "res2 <- predict(res,cl$centers)\n",
    "\n",
    "biplot(res,xlabs=cl$cluster)\n",
    "\n",
    "points(res2[,1:2],col=1:k0,pch=19)"
   ]
  },
  {
   "cell_type": "code",
   "execution_count": 16,
   "metadata": {},
   "outputs": [
    {
     "data": {
      "text/plain": [
       "---------------------------------------------------- \n",
       "Gaussian finite mixture model fitted by EM algorithm \n",
       "---------------------------------------------------- \n",
       "\n",
       "Mclust VEV (ellipsoidal, equal shape) model with 3 components: \n",
       "\n",
       " log-likelihood   n df       BIC       ICL\n",
       "       -186.074 150 38 -562.5522 -566.4673\n",
       "\n",
       "Clustering table:\n",
       " 1  2  3 \n",
       "50 45 55 "
      ]
     },
     "metadata": {},
     "output_type": "display_data"
    },
    {
     "data": {
      "text/plain": [
       "'Mclust' model object: (VEV,3) \n",
       "\n",
       "Available components: \n",
       " [1] \"call\"           \"data\"           \"modelName\"      \"n\"             \n",
       " [5] \"d\"              \"G\"              \"BIC\"            \"bic\"           \n",
       " [9] \"loglik\"         \"df\"             \"hypvol\"         \"parameters\"    \n",
       "[13] \"z\"              \"classification\" \"uncertainty\"   "
      ]
     },
     "metadata": {},
     "output_type": "display_data"
    },
    {
     "data": {
      "text/html": [
       "<table>\n",
       "<caption>A matrix: 3 × 4 of type dbl</caption>\n",
       "<thead>\n",
       "\t<tr><th scope=col>Sepal.Length</th><th scope=col>Sepal.Width</th><th scope=col>Petal.Length</th><th scope=col>Petal.Width</th></tr>\n",
       "</thead>\n",
       "<tbody>\n",
       "\t<tr><td>5.006000</td><td>3.428000</td><td>1.462000</td><td>0.246000</td></tr>\n",
       "\t<tr><td>5.915044</td><td>2.777451</td><td>4.204002</td><td>1.298935</td></tr>\n",
       "\t<tr><td>6.546807</td><td>2.949613</td><td>5.482252</td><td>1.985523</td></tr>\n",
       "</tbody>\n",
       "</table>\n"
      ],
      "text/latex": [
       "A matrix: 3 × 4 of type dbl\n",
       "\\begin{tabular}{llll}\n",
       " Sepal.Length & Sepal.Width & Petal.Length & Petal.Width\\\\\n",
       "\\hline\n",
       "\t 5.006000 & 3.428000 & 1.462000 & 0.246000\\\\\n",
       "\t 5.915044 & 2.777451 & 4.204002 & 1.298935\\\\\n",
       "\t 6.546807 & 2.949613 & 5.482252 & 1.985523\\\\\n",
       "\\end{tabular}\n"
      ],
      "text/markdown": [
       "\n",
       "A matrix: 3 × 4 of type dbl\n",
       "\n",
       "| Sepal.Length | Sepal.Width | Petal.Length | Petal.Width |\n",
       "|---|---|---|---|\n",
       "| 5.006000 | 3.428000 | 1.462000 | 0.246000 |\n",
       "| 5.915044 | 2.777451 | 4.204002 | 1.298935 |\n",
       "| 6.546807 | 2.949613 | 5.482252 | 1.985523 |\n",
       "\n"
      ],
      "text/plain": [
       "     Sepal.Length Sepal.Width Petal.Length Petal.Width\n",
       "[1,] 5.006000     3.428000    1.462000     0.246000   \n",
       "[2,] 5.915044     2.777451    4.204002     1.298935   \n",
       "[3,] 6.546807     2.949613    5.482252     1.985523   "
      ]
     },
     "metadata": {},
     "output_type": "display_data"
    },
    {
     "data": {
      "text/html": [
       "<style>\n",
       ".dl-inline {width: auto; margin:0; padding: 0}\n",
       ".dl-inline>dt, .dl-inline>dd {float: none; width: auto; display: inline-block}\n",
       ".dl-inline>dt::after {content: \":\\0020\"; padding-right: .5ex}\n",
       ".dl-inline>dt:not(:first-of-type) {padding-left: .5ex}\n",
       "</style><dl class=dl-inline><dt>1</dt><dd>1</dd><dt>2</dt><dd>1</dd><dt>3</dt><dd>1</dd><dt>4</dt><dd>1</dd><dt>5</dt><dd>1</dd><dt>6</dt><dd>1</dd><dt>7</dt><dd>1</dd><dt>8</dt><dd>1</dd><dt>9</dt><dd>1</dd><dt>10</dt><dd>1</dd><dt>11</dt><dd>1</dd><dt>12</dt><dd>1</dd><dt>13</dt><dd>1</dd><dt>14</dt><dd>1</dd><dt>15</dt><dd>1</dd><dt>16</dt><dd>1</dd><dt>17</dt><dd>1</dd><dt>18</dt><dd>1</dd><dt>19</dt><dd>1</dd><dt>20</dt><dd>1</dd><dt>21</dt><dd>1</dd><dt>22</dt><dd>1</dd><dt>23</dt><dd>1</dd><dt>24</dt><dd>1</dd><dt>25</dt><dd>1</dd><dt>26</dt><dd>1</dd><dt>27</dt><dd>1</dd><dt>28</dt><dd>1</dd><dt>29</dt><dd>1</dd><dt>30</dt><dd>1</dd><dt>31</dt><dd>1</dd><dt>32</dt><dd>1</dd><dt>33</dt><dd>1</dd><dt>34</dt><dd>1</dd><dt>35</dt><dd>1</dd><dt>36</dt><dd>1</dd><dt>37</dt><dd>1</dd><dt>38</dt><dd>1</dd><dt>39</dt><dd>1</dd><dt>40</dt><dd>1</dd><dt>41</dt><dd>1</dd><dt>42</dt><dd>1</dd><dt>43</dt><dd>1</dd><dt>44</dt><dd>1</dd><dt>45</dt><dd>1</dd><dt>46</dt><dd>1</dd><dt>47</dt><dd>1</dd><dt>48</dt><dd>1</dd><dt>49</dt><dd>1</dd><dt>50</dt><dd>1</dd><dt>51</dt><dd>2</dd><dt>52</dt><dd>2</dd><dt>53</dt><dd>2</dd><dt>54</dt><dd>2</dd><dt>55</dt><dd>2</dd><dt>56</dt><dd>2</dd><dt>57</dt><dd>2</dd><dt>58</dt><dd>2</dd><dt>59</dt><dd>2</dd><dt>60</dt><dd>2</dd><dt>61</dt><dd>2</dd><dt>62</dt><dd>2</dd><dt>63</dt><dd>2</dd><dt>64</dt><dd>2</dd><dt>65</dt><dd>2</dd><dt>66</dt><dd>2</dd><dt>67</dt><dd>2</dd><dt>68</dt><dd>2</dd><dt>69</dt><dd>3</dd><dt>70</dt><dd>2</dd><dt>71</dt><dd>3</dd><dt>72</dt><dd>2</dd><dt>73</dt><dd>3</dd><dt>74</dt><dd>2</dd><dt>75</dt><dd>2</dd><dt>76</dt><dd>2</dd><dt>77</dt><dd>2</dd><dt>78</dt><dd>3</dd><dt>79</dt><dd>2</dd><dt>80</dt><dd>2</dd><dt>81</dt><dd>2</dd><dt>82</dt><dd>2</dd><dt>83</dt><dd>2</dd><dt>84</dt><dd>3</dd><dt>85</dt><dd>2</dd><dt>86</dt><dd>2</dd><dt>87</dt><dd>2</dd><dt>88</dt><dd>2</dd><dt>89</dt><dd>2</dd><dt>90</dt><dd>2</dd><dt>91</dt><dd>2</dd><dt>92</dt><dd>2</dd><dt>93</dt><dd>2</dd><dt>94</dt><dd>2</dd><dt>95</dt><dd>2</dd><dt>96</dt><dd>2</dd><dt>97</dt><dd>2</dd><dt>98</dt><dd>2</dd><dt>99</dt><dd>2</dd><dt>100</dt><dd>2</dd><dt>101</dt><dd>3</dd><dt>102</dt><dd>3</dd><dt>103</dt><dd>3</dd><dt>104</dt><dd>3</dd><dt>105</dt><dd>3</dd><dt>106</dt><dd>3</dd><dt>107</dt><dd>3</dd><dt>108</dt><dd>3</dd><dt>109</dt><dd>3</dd><dt>110</dt><dd>3</dd><dt>111</dt><dd>3</dd><dt>112</dt><dd>3</dd><dt>113</dt><dd>3</dd><dt>114</dt><dd>3</dd><dt>115</dt><dd>3</dd><dt>116</dt><dd>3</dd><dt>117</dt><dd>3</dd><dt>118</dt><dd>3</dd><dt>119</dt><dd>3</dd><dt>120</dt><dd>3</dd><dt>121</dt><dd>3</dd><dt>122</dt><dd>3</dd><dt>123</dt><dd>3</dd><dt>124</dt><dd>3</dd><dt>125</dt><dd>3</dd><dt>126</dt><dd>3</dd><dt>127</dt><dd>3</dd><dt>128</dt><dd>3</dd><dt>129</dt><dd>3</dd><dt>130</dt><dd>3</dd><dt>131</dt><dd>3</dd><dt>132</dt><dd>3</dd><dt>133</dt><dd>3</dd><dt>134</dt><dd>3</dd><dt>135</dt><dd>3</dd><dt>136</dt><dd>3</dd><dt>137</dt><dd>3</dd><dt>138</dt><dd>3</dd><dt>139</dt><dd>3</dd><dt>140</dt><dd>3</dd><dt>141</dt><dd>3</dd><dt>142</dt><dd>3</dd><dt>143</dt><dd>3</dd><dt>144</dt><dd>3</dd><dt>145</dt><dd>3</dd><dt>146</dt><dd>3</dd><dt>147</dt><dd>3</dd><dt>148</dt><dd>3</dd><dt>149</dt><dd>3</dd><dt>150</dt><dd>3</dd></dl>\n"
      ],
      "text/latex": [
       "\\begin{description*}\n",
       "\\item[1] 1\n",
       "\\item[2] 1\n",
       "\\item[3] 1\n",
       "\\item[4] 1\n",
       "\\item[5] 1\n",
       "\\item[6] 1\n",
       "\\item[7] 1\n",
       "\\item[8] 1\n",
       "\\item[9] 1\n",
       "\\item[10] 1\n",
       "\\item[11] 1\n",
       "\\item[12] 1\n",
       "\\item[13] 1\n",
       "\\item[14] 1\n",
       "\\item[15] 1\n",
       "\\item[16] 1\n",
       "\\item[17] 1\n",
       "\\item[18] 1\n",
       "\\item[19] 1\n",
       "\\item[20] 1\n",
       "\\item[21] 1\n",
       "\\item[22] 1\n",
       "\\item[23] 1\n",
       "\\item[24] 1\n",
       "\\item[25] 1\n",
       "\\item[26] 1\n",
       "\\item[27] 1\n",
       "\\item[28] 1\n",
       "\\item[29] 1\n",
       "\\item[30] 1\n",
       "\\item[31] 1\n",
       "\\item[32] 1\n",
       "\\item[33] 1\n",
       "\\item[34] 1\n",
       "\\item[35] 1\n",
       "\\item[36] 1\n",
       "\\item[37] 1\n",
       "\\item[38] 1\n",
       "\\item[39] 1\n",
       "\\item[40] 1\n",
       "\\item[41] 1\n",
       "\\item[42] 1\n",
       "\\item[43] 1\n",
       "\\item[44] 1\n",
       "\\item[45] 1\n",
       "\\item[46] 1\n",
       "\\item[47] 1\n",
       "\\item[48] 1\n",
       "\\item[49] 1\n",
       "\\item[50] 1\n",
       "\\item[51] 2\n",
       "\\item[52] 2\n",
       "\\item[53] 2\n",
       "\\item[54] 2\n",
       "\\item[55] 2\n",
       "\\item[56] 2\n",
       "\\item[57] 2\n",
       "\\item[58] 2\n",
       "\\item[59] 2\n",
       "\\item[60] 2\n",
       "\\item[61] 2\n",
       "\\item[62] 2\n",
       "\\item[63] 2\n",
       "\\item[64] 2\n",
       "\\item[65] 2\n",
       "\\item[66] 2\n",
       "\\item[67] 2\n",
       "\\item[68] 2\n",
       "\\item[69] 3\n",
       "\\item[70] 2\n",
       "\\item[71] 3\n",
       "\\item[72] 2\n",
       "\\item[73] 3\n",
       "\\item[74] 2\n",
       "\\item[75] 2\n",
       "\\item[76] 2\n",
       "\\item[77] 2\n",
       "\\item[78] 3\n",
       "\\item[79] 2\n",
       "\\item[80] 2\n",
       "\\item[81] 2\n",
       "\\item[82] 2\n",
       "\\item[83] 2\n",
       "\\item[84] 3\n",
       "\\item[85] 2\n",
       "\\item[86] 2\n",
       "\\item[87] 2\n",
       "\\item[88] 2\n",
       "\\item[89] 2\n",
       "\\item[90] 2\n",
       "\\item[91] 2\n",
       "\\item[92] 2\n",
       "\\item[93] 2\n",
       "\\item[94] 2\n",
       "\\item[95] 2\n",
       "\\item[96] 2\n",
       "\\item[97] 2\n",
       "\\item[98] 2\n",
       "\\item[99] 2\n",
       "\\item[100] 2\n",
       "\\item[101] 3\n",
       "\\item[102] 3\n",
       "\\item[103] 3\n",
       "\\item[104] 3\n",
       "\\item[105] 3\n",
       "\\item[106] 3\n",
       "\\item[107] 3\n",
       "\\item[108] 3\n",
       "\\item[109] 3\n",
       "\\item[110] 3\n",
       "\\item[111] 3\n",
       "\\item[112] 3\n",
       "\\item[113] 3\n",
       "\\item[114] 3\n",
       "\\item[115] 3\n",
       "\\item[116] 3\n",
       "\\item[117] 3\n",
       "\\item[118] 3\n",
       "\\item[119] 3\n",
       "\\item[120] 3\n",
       "\\item[121] 3\n",
       "\\item[122] 3\n",
       "\\item[123] 3\n",
       "\\item[124] 3\n",
       "\\item[125] 3\n",
       "\\item[126] 3\n",
       "\\item[127] 3\n",
       "\\item[128] 3\n",
       "\\item[129] 3\n",
       "\\item[130] 3\n",
       "\\item[131] 3\n",
       "\\item[132] 3\n",
       "\\item[133] 3\n",
       "\\item[134] 3\n",
       "\\item[135] 3\n",
       "\\item[136] 3\n",
       "\\item[137] 3\n",
       "\\item[138] 3\n",
       "\\item[139] 3\n",
       "\\item[140] 3\n",
       "\\item[141] 3\n",
       "\\item[142] 3\n",
       "\\item[143] 3\n",
       "\\item[144] 3\n",
       "\\item[145] 3\n",
       "\\item[146] 3\n",
       "\\item[147] 3\n",
       "\\item[148] 3\n",
       "\\item[149] 3\n",
       "\\item[150] 3\n",
       "\\end{description*}\n"
      ],
      "text/markdown": [
       "1\n",
       ":   12\n",
       ":   13\n",
       ":   14\n",
       ":   15\n",
       ":   16\n",
       ":   17\n",
       ":   18\n",
       ":   19\n",
       ":   110\n",
       ":   111\n",
       ":   112\n",
       ":   113\n",
       ":   114\n",
       ":   115\n",
       ":   116\n",
       ":   117\n",
       ":   118\n",
       ":   119\n",
       ":   120\n",
       ":   121\n",
       ":   122\n",
       ":   123\n",
       ":   124\n",
       ":   125\n",
       ":   126\n",
       ":   127\n",
       ":   128\n",
       ":   129\n",
       ":   130\n",
       ":   131\n",
       ":   132\n",
       ":   133\n",
       ":   134\n",
       ":   135\n",
       ":   136\n",
       ":   137\n",
       ":   138\n",
       ":   139\n",
       ":   140\n",
       ":   141\n",
       ":   142\n",
       ":   143\n",
       ":   144\n",
       ":   145\n",
       ":   146\n",
       ":   147\n",
       ":   148\n",
       ":   149\n",
       ":   150\n",
       ":   151\n",
       ":   252\n",
       ":   253\n",
       ":   254\n",
       ":   255\n",
       ":   256\n",
       ":   257\n",
       ":   258\n",
       ":   259\n",
       ":   260\n",
       ":   261\n",
       ":   262\n",
       ":   263\n",
       ":   264\n",
       ":   265\n",
       ":   266\n",
       ":   267\n",
       ":   268\n",
       ":   269\n",
       ":   370\n",
       ":   271\n",
       ":   372\n",
       ":   273\n",
       ":   374\n",
       ":   275\n",
       ":   276\n",
       ":   277\n",
       ":   278\n",
       ":   379\n",
       ":   280\n",
       ":   281\n",
       ":   282\n",
       ":   283\n",
       ":   284\n",
       ":   385\n",
       ":   286\n",
       ":   287\n",
       ":   288\n",
       ":   289\n",
       ":   290\n",
       ":   291\n",
       ":   292\n",
       ":   293\n",
       ":   294\n",
       ":   295\n",
       ":   296\n",
       ":   297\n",
       ":   298\n",
       ":   299\n",
       ":   2100\n",
       ":   2101\n",
       ":   3102\n",
       ":   3103\n",
       ":   3104\n",
       ":   3105\n",
       ":   3106\n",
       ":   3107\n",
       ":   3108\n",
       ":   3109\n",
       ":   3110\n",
       ":   3111\n",
       ":   3112\n",
       ":   3113\n",
       ":   3114\n",
       ":   3115\n",
       ":   3116\n",
       ":   3117\n",
       ":   3118\n",
       ":   3119\n",
       ":   3120\n",
       ":   3121\n",
       ":   3122\n",
       ":   3123\n",
       ":   3124\n",
       ":   3125\n",
       ":   3126\n",
       ":   3127\n",
       ":   3128\n",
       ":   3129\n",
       ":   3130\n",
       ":   3131\n",
       ":   3132\n",
       ":   3133\n",
       ":   3134\n",
       ":   3135\n",
       ":   3136\n",
       ":   3137\n",
       ":   3138\n",
       ":   3139\n",
       ":   3140\n",
       ":   3141\n",
       ":   3142\n",
       ":   3143\n",
       ":   3144\n",
       ":   3145\n",
       ":   3146\n",
       ":   3147\n",
       ":   3148\n",
       ":   3149\n",
       ":   3150\n",
       ":   3\n",
       "\n"
      ],
      "text/plain": [
       "  1   2   3   4   5   6   7   8   9  10  11  12  13  14  15  16  17  18  19  20 \n",
       "  1   1   1   1   1   1   1   1   1   1   1   1   1   1   1   1   1   1   1   1 \n",
       " 21  22  23  24  25  26  27  28  29  30  31  32  33  34  35  36  37  38  39  40 \n",
       "  1   1   1   1   1   1   1   1   1   1   1   1   1   1   1   1   1   1   1   1 \n",
       " 41  42  43  44  45  46  47  48  49  50  51  52  53  54  55  56  57  58  59  60 \n",
       "  1   1   1   1   1   1   1   1   1   1   2   2   2   2   2   2   2   2   2   2 \n",
       " 61  62  63  64  65  66  67  68  69  70  71  72  73  74  75  76  77  78  79  80 \n",
       "  2   2   2   2   2   2   2   2   3   2   3   2   3   2   2   2   2   3   2   2 \n",
       " 81  82  83  84  85  86  87  88  89  90  91  92  93  94  95  96  97  98  99 100 \n",
       "  2   2   2   3   2   2   2   2   2   2   2   2   2   2   2   2   2   2   2   2 \n",
       "101 102 103 104 105 106 107 108 109 110 111 112 113 114 115 116 117 118 119 120 \n",
       "  3   3   3   3   3   3   3   3   3   3   3   3   3   3   3   3   3   3   3   3 \n",
       "121 122 123 124 125 126 127 128 129 130 131 132 133 134 135 136 137 138 139 140 \n",
       "  3   3   3   3   3   3   3   3   3   3   3   3   3   3   3   3   3   3   3   3 \n",
       "141 142 143 144 145 146 147 148 149 150 \n",
       "  3   3   3   3   3   3   3   3   3   3 "
      ]
     },
     "metadata": {},
     "output_type": "display_data"
    },
    {
     "data": {
      "image/png": "[encoded data removed]",
      "text/plain": [
       "plot without title"
      ]
     },
     "metadata": {
      "image/png": {
       "height": 420,
       "width": 420
      }
     },
     "output_type": "display_data"
    }
   ],
   "source": [
    "clus <-Mclust(datos, G=3)\n",
    "summary(clus)\n",
    "clus\n",
    "\n",
    "cl <- clus$classification\n",
    "centers <- t(clus$parameters$mean)\n",
    "centers\n",
    "cl\n",
    "\n",
    "fviz_mclust(clus, what = \"classification\", geom=\"point\", pallete = \"jco\")"
   ]
  },
  {
   "cell_type": "code",
   "execution_count": 20,
   "metadata": {},
   "outputs": [
    {
     "data": {
      "image/png": "[encoded data removed]",
      "text/plain": [
       "plot without title"
      ]
     },
     "metadata": {
      "image/png": {
       "height": 420,
       "width": 420
      }
     },
     "output_type": "display_data"
    }
   ],
   "source": [
    "res3 <- hclust(dist(datos))\n",
    "dend <- as.dendrogram(res3)\n",
    "dend <- color_branches(dend, k=3)\n",
    "plot(dend)"
   ]
  },
  {
   "cell_type": "markdown",
   "metadata": {},
   "source": [
    "**Respuesta 4**\n",
    "\n",
    "a)Luego de haber utilizado los métodos, y sabiendo que las clases de plantas son 3, podemos observar esas diferencias gráficamente, si nosotros usamos k=3 para los modelos, logran discernir bastante bien entre una y otra clase, a pesar de que hay dos clases que se parecen bastante entre si, que es donde podría haber cierto conflicto. Del primer clustering se observa que la principal diferencia entre las clases es en el largo del cepalo.\n",
    "\n",
    "b)"
   ]
  },
  {
   "cell_type": "code",
   "execution_count": null,
   "metadata": {},
   "outputs": [],
   "source": []
  }
 ],
 "metadata": {
  "celltoolbar": "Raw Cell Format",
  "kernelspec": {
   "display_name": "R",
   "language": "R",
   "name": "ir"
  },
  "language_info": {
   "codemirror_mode": "r",
   "file_extension": ".r",
   "mimetype": "text/x-r-source",
   "name": "R",
   "pygments_lexer": "r",
   "version": "3.6.1"
  }
 },
 "nbformat": 4,
 "nbformat_minor": 2
}
